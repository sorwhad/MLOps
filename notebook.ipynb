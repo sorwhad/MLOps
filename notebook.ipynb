{
 "cells": [
  {
   "cell_type": "code",
   "execution_count": 1,
   "metadata": {},
   "outputs": [],
   "source": [
    "import numpy as np "
   ]
  },
  {
   "cell_type": "code",
   "execution_count": 2,
   "metadata": {},
   "outputs": [],
   "source": [
    "from sklearn import datasets\n",
    "\n",
    "iris = datasets.load_iris() "
   ]
  },
  {
   "cell_type": "code",
   "execution_count": 6,
   "metadata": {},
   "outputs": [],
   "source": [
    "digits = datasets.load_digits()"
   ]
  },
  {
   "cell_type": "code",
   "execution_count": 4,
   "metadata": {},
   "outputs": [],
   "source": [
    "from sklearn import svm"
   ]
  },
  {
   "cell_type": "code",
   "execution_count": 5,
   "metadata": {},
   "outputs": [],
   "source": [
    "clf = svm.SVC(gamma=0.001, C=100.)"
   ]
  },
  {
   "cell_type": "code",
   "execution_count": null,
   "metadata": {},
   "outputs": [],
   "source": [
    "clf.fit(digits.data[:-1], digits.target[:-1]) "
   ]
  },
  {
   "cell_type": "code",
   "execution_count": 13,
   "metadata": {},
   "outputs": [
    {
     "data": {
      "text/plain": [
       "['setosa',\n",
       " 'setosa',\n",
       " 'setosa',\n",
       " 'setosa',\n",
       " 'setosa',\n",
       " 'setosa',\n",
       " 'setosa',\n",
       " 'setosa',\n",
       " 'setosa',\n",
       " 'setosa',\n",
       " 'setosa',\n",
       " 'setosa',\n",
       " 'setosa',\n",
       " 'setosa',\n",
       " 'setosa',\n",
       " 'setosa',\n",
       " 'setosa',\n",
       " 'setosa',\n",
       " 'setosa',\n",
       " 'setosa',\n",
       " 'setosa',\n",
       " 'setosa',\n",
       " 'setosa',\n",
       " 'setosa',\n",
       " 'setosa',\n",
       " 'setosa',\n",
       " 'setosa',\n",
       " 'setosa',\n",
       " 'setosa',\n",
       " 'setosa',\n",
       " 'setosa',\n",
       " 'setosa',\n",
       " 'setosa',\n",
       " 'setosa',\n",
       " 'setosa',\n",
       " 'setosa',\n",
       " 'setosa',\n",
       " 'setosa',\n",
       " 'setosa',\n",
       " 'setosa',\n",
       " 'setosa',\n",
       " 'setosa',\n",
       " 'setosa',\n",
       " 'setosa',\n",
       " 'setosa',\n",
       " 'setosa',\n",
       " 'setosa',\n",
       " 'setosa',\n",
       " 'setosa',\n",
       " 'setosa',\n",
       " 'versicolor',\n",
       " 'versicolor',\n",
       " 'versicolor',\n",
       " 'versicolor',\n",
       " 'versicolor',\n",
       " 'versicolor',\n",
       " 'versicolor',\n",
       " 'versicolor',\n",
       " 'versicolor',\n",
       " 'versicolor',\n",
       " 'versicolor',\n",
       " 'versicolor',\n",
       " 'versicolor',\n",
       " 'versicolor',\n",
       " 'versicolor',\n",
       " 'versicolor',\n",
       " 'versicolor',\n",
       " 'versicolor',\n",
       " 'versicolor',\n",
       " 'versicolor',\n",
       " 'versicolor',\n",
       " 'versicolor',\n",
       " 'versicolor',\n",
       " 'versicolor',\n",
       " 'versicolor',\n",
       " 'versicolor',\n",
       " 'versicolor',\n",
       " 'virginica',\n",
       " 'versicolor',\n",
       " 'versicolor',\n",
       " 'versicolor',\n",
       " 'versicolor',\n",
       " 'versicolor',\n",
       " 'virginica',\n",
       " 'versicolor',\n",
       " 'versicolor',\n",
       " 'versicolor',\n",
       " 'versicolor',\n",
       " 'versicolor',\n",
       " 'versicolor',\n",
       " 'versicolor',\n",
       " 'versicolor',\n",
       " 'versicolor',\n",
       " 'versicolor',\n",
       " 'versicolor',\n",
       " 'versicolor',\n",
       " 'versicolor',\n",
       " 'versicolor',\n",
       " 'versicolor',\n",
       " 'versicolor',\n",
       " 'virginica',\n",
       " 'virginica',\n",
       " 'virginica',\n",
       " 'virginica',\n",
       " 'virginica',\n",
       " 'virginica',\n",
       " 'versicolor',\n",
       " 'virginica',\n",
       " 'virginica',\n",
       " 'virginica',\n",
       " 'virginica',\n",
       " 'virginica',\n",
       " 'virginica',\n",
       " 'virginica',\n",
       " 'virginica',\n",
       " 'virginica',\n",
       " 'virginica',\n",
       " 'virginica',\n",
       " 'virginica',\n",
       " 'virginica',\n",
       " 'virginica',\n",
       " 'virginica',\n",
       " 'virginica',\n",
       " 'virginica',\n",
       " 'virginica',\n",
       " 'virginica',\n",
       " 'virginica',\n",
       " 'virginica',\n",
       " 'virginica',\n",
       " 'virginica',\n",
       " 'virginica',\n",
       " 'virginica',\n",
       " 'virginica',\n",
       " 'virginica',\n",
       " 'virginica',\n",
       " 'virginica',\n",
       " 'virginica',\n",
       " 'virginica',\n",
       " 'versicolor',\n",
       " 'virginica',\n",
       " 'virginica',\n",
       " 'virginica',\n",
       " 'virginica',\n",
       " 'virginica',\n",
       " 'virginica',\n",
       " 'virginica',\n",
       " 'virginica',\n",
       " 'virginica',\n",
       " 'virginica',\n",
       " 'virginica']"
      ]
     },
     "execution_count": 13,
     "metadata": {},
     "output_type": "execute_result"
    }
   ],
   "source": [
    "from sklearn import datasets\n",
    "from sklearn.svm import SVC\n",
    "iris = datasets.load_iris()\n",
    "clf = SVC()\n",
    "clf.fit(iris.data, iris.target)\n",
    "clf.fit(iris.data, iris.target_names[iris.target])\n",
    "\n",
    "list(clf.predict(iris.data))"
   ]
  },
  {
   "cell_type": "code",
   "execution_count": 1,
   "metadata": {},
   "outputs": [],
   "source": [
    "import iris_classifiers"
   ]
  },
  {
   "cell_type": "code",
   "execution_count": 2,
   "metadata": {},
   "outputs": [],
   "source": [
    "from iris_classifiers.fetch_data import get_iris_data"
   ]
  },
  {
   "cell_type": "code",
   "execution_count": 4,
   "metadata": {},
   "outputs": [],
   "source": [
    "iris = get_iris_data()\n",
    "data = iris['data']\n",
    "target = iris['target']"
   ]
  },
  {
   "cell_type": "code",
   "execution_count": 6,
   "metadata": {},
   "outputs": [
    {
     "ename": "ImportError",
     "evalue": "cannot import name 'classify' from 'iris_classifiers.classify' (/Users/vadimsorokin/Desktop/Статистика и мл/notebook_trash/iris_classifiers/iris_classifiers/classify.py)",
     "output_type": "error",
     "traceback": [
      "\u001b[0;31m---------------------------------------------------------------------------\u001b[0m",
      "\u001b[0;31mImportError\u001b[0m                               Traceback (most recent call last)",
      "\u001b[1;32m/Users/vadimsorokin/Desktop/Статистика и мл/notebook_trash/iris_classifiers/notebook.ipynb Cell 11\u001b[0m in \u001b[0;36m1\n\u001b[0;32m----> <a href='vscode-notebook-cell:/Users/vadimsorokin/Desktop/%D0%A1%D1%82%D0%B0%D1%82%D0%B8%D1%81%D1%82%D0%B8%D0%BA%D0%B0%20%D0%B8%20%D0%BC%D0%BB/notebook_trash/iris_classifiers/notebook.ipynb#X13sZmlsZQ%3D%3D?line=0'>1</a>\u001b[0m \u001b[39mfrom\u001b[39;00m \u001b[39miris_classifiers\u001b[39;00m\u001b[39m.\u001b[39;00m\u001b[39mclassify\u001b[39;00m \u001b[39mimport\u001b[39;00m classify \n",
      "\u001b[0;31mImportError\u001b[0m: cannot import name 'classify' from 'iris_classifiers.classify' (/Users/vadimsorokin/Desktop/Статистика и мл/notebook_trash/iris_classifiers/iris_classifiers/classify.py)"
     ]
    }
   ],
   "source": [
    "from iris_classifiers.classify import classify "
   ]
  },
  {
   "cell_type": "code",
   "execution_count": null,
   "metadata": {},
   "outputs": [],
   "source": []
  }
 ],
 "metadata": {
  "kernelspec": {
   "display_name": "stats_and_ml",
   "language": "python",
   "name": "python3"
  },
  "language_info": {
   "codemirror_mode": {
    "name": "ipython",
    "version": 3
   },
   "file_extension": ".py",
   "mimetype": "text/x-python",
   "name": "python",
   "nbconvert_exporter": "python",
   "pygments_lexer": "ipython3",
   "version": "3.10.10"
  },
  "orig_nbformat": 4
 },
 "nbformat": 4,
 "nbformat_minor": 2
}
